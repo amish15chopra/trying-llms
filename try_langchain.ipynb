{
 "cells": [
  {
   "cell_type": "code",
   "execution_count": 1,
   "id": "65f24d78-76b7-4f27-91b2-53c83949879e",
   "metadata": {},
   "outputs": [],
   "source": [
    "from langchain_community.llms import Ollama\n",
    "llm = Ollama(model=\"llama3\")"
   ]
  },
  {
   "cell_type": "code",
   "execution_count": 5,
   "id": "f02e97ea-2050-4bd6-b75c-1f6887f08411",
   "metadata": {},
   "outputs": [
    {
     "name": "stdout",
     "output_type": "stream",
     "text": [
      "Here| is| the| list|:\n",
      "\n",
      "|1|.| Lion|\n",
      "|2|.| Elephant|\n",
      "|3|.| Gir|affe|\n",
      "|4|.| Z|ebra|\n",
      "|5|.| Monkey|\n",
      "|6|.| Kang|aroo|\n",
      "|7|.| Penguin|\n",
      "|8|.| Ko|ala|\n",
      "|9|.| Snake|\n",
      "|10|.| Wolf||"
     ]
    }
   ],
   "source": [
    "from langchain_core.prompts import ChatPromptTemplate\n",
    "from langchain_core.output_parsers import StrOutputParser\n",
    "\n",
    "prompt = ChatPromptTemplate.from_template(\"Why are {thing} green?\")\n",
    "\n",
    "#check what does parser do\n",
    "parser = StrOutputParser()\n",
    "\n",
    "chain = llm|parser\n",
    "\n",
    "# response = chain.invoke({\"thing\":\"parrots\"})\n",
    "# print(response)\n",
    "\n",
    "# streaming\n",
    "chunks = []\n",
    "# async for chunk in chain.astream({\"thing\":\"leaves\"}):\n",
    "async for chunk in chain.astream(\"Print a list of 10 animals. Make answer very concise\"):\n",
    "    chunks.append(chunk)\n",
    "    print(chunk, end=\"|\")"
   ]
  },
  {
   "cell_type": "code",
   "execution_count": null,
   "id": "7e30cf7e",
   "metadata": {},
   "outputs": [],
   "source": []
  }
 ],
 "metadata": {
  "kernelspec": {
   "display_name": "Python 3 (ipykernel)",
   "language": "python",
   "name": "python3"
  },
  "language_info": {
   "codemirror_mode": {
    "name": "ipython",
    "version": 3
   },
   "file_extension": ".py",
   "mimetype": "text/x-python",
   "name": "python",
   "nbconvert_exporter": "python",
   "pygments_lexer": "ipython3",
   "version": "3.12.3"
  }
 },
 "nbformat": 4,
 "nbformat_minor": 5
}
